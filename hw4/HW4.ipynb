{
 "cells": [
  {
   "cell_type": "markdown",
   "metadata": {},
   "source": [
    "# Deep Learning for Computer Vision:  HW 4"
   ]
  },
  {
   "cell_type": "markdown",
   "metadata": {},
   "source": [
    "## Computer Science: COMS W 4995 005"
   ]
  },
  {
   "cell_type": "markdown",
   "metadata": {},
   "source": [
    "### Due: October 31, 2024\n",
    "\n",
    "### Problem"
   ]
  },
  {
   "cell_type": "markdown",
   "metadata": {},
   "source": [
    "1. In this notebook we provide three networks for classifying handwritten digits from the MNIST dataset. The networks are implemented and tested using the Tensorflow framework. The third and final network is a convolutional neural network (CNN aka ConvNet) which achieves 99.18% accuracy on this dataset. \n",
    "\n",
    "    Your task is to re-implement all three networks using Pytorch. You will likely find several Pytorch implementations on the internet. It is ok to study these. However, you must not cut and paste this code into your assignment--you must write this yourself. Furthermore, you need to comment every line of code and succintly explain what it is doing! The MNIST dataset should be loadable from PyTorch/torchvision and part of your assignment is to find this and load it yourself.\n",
    "\n",
    "    Here is what is required:\n",
    "\n",
    "    a) A FULLY commented re-implementation of the networks below using Pytorch.\n",
    "\n",
    "    b) your network trained on the same MNIST data as used here.\n",
    "\n",
    "    c) an evaluation of the accuracy on the MNIST test set.\n",
    "\n",
    "    d) plots of 10 randomly selected digits from the test set along with the correct label and the assigned label.\n",
    "\n",
    "    e) have your training record a log of the validation loss and validation accuracy. \n",
    "\n",
    "    f) have your training continually save the best model so far (as determined by the validation loss).\n",
    "\n",
    "    g) after training, load the saved weights using the best model so far. re-run you accuracy evaluation using these saved weights.\n",
    "\n",
    "    Below we include the Tensorflow examples shown in class.  \n",
    "   <p>&nbsp;</p> \n"
   ]
  },
  {
   "cell_type": "markdown",
   "metadata": {},
   "source": [
    "### A Simple Convolutional Neural Network in Tensorflow"
   ]
  },
  {
   "cell_type": "markdown",
   "metadata": {},
   "source": [
    "This notebook covers a python and tensorflow-based solution to the handwritten digits recognition problem. It is based on tensorflow tutorials and Yann LeCun's early work on CNN's. This toturial compares a simple softmax regressor, a multi-layer perceptron (MLP), and a simple convolutional neural network (CNN)."
   ]
  },
  {
   "cell_type": "markdown",
   "metadata": {},
   "source": [
    "Load in the MNIST digit dataset directly from tensorflow examples."
   ]
  },
  {
   "cell_type": "code",
   "execution_count": null,
   "metadata": {},
   "outputs": [],
   "source": [
    "%pip install numpy matplotlib pandas tensorflow sklearn"
   ]
  },
  {
   "cell_type": "code",
   "execution_count": null,
   "metadata": {},
   "outputs": [],
   "source": [
    "from tensorflow.examples.tutorials.mnist import input_data\n",
    "mnist = input_data.read_data_sets('MNIST_data', one_hot=True)"
   ]
  },
  {
   "cell_type": "markdown",
   "metadata": {},
   "source": [
    "The MNIST data is split into three parts: 55,000 data points of training data (mnist.train), 10,000 points of test data (mnist.test), and 5,000 points of validation data (mnist.validation). "
   ]
  },
  {
   "cell_type": "markdown",
   "metadata": {},
   "source": [
    "Let's import tensorflow and begin an interactive session."
   ]
  },
  {
   "cell_type": "code",
   "execution_count": null,
   "metadata": {
    "collapsed": true
   },
   "outputs": [],
   "source": [
    "import tensorflow as tf\n",
    "sess = tf.InteractiveSession()"
   ]
  },
  {
   "cell_type": "markdown",
   "metadata": {},
   "source": [
    "## Softmax Regression Model on the MNIST Digits Data"
   ]
  },
  {
   "cell_type": "markdown",
   "metadata": {},
   "source": [
    "We need to create placeholders for the data. Data will be dumped here when it is batched from the MNIST dataset."
   ]
  },
  {
   "cell_type": "code",
   "execution_count": null,
   "metadata": {
    "collapsed": true
   },
   "outputs": [],
   "source": [
    "x = tf.placeholder(tf.float32, shape=[None, 784])\n",
    "y_ = tf.placeholder(tf.float32, shape=[None, 10])"
   ]
  },
  {
   "cell_type": "markdown",
   "metadata": {},
   "source": [
    "Now let's see what this data looks like."
   ]
  },
  {
   "cell_type": "code",
   "execution_count": null,
   "metadata": {},
   "outputs": [],
   "source": [
    "import matplotlib.pyplot as plt\n",
    "import numpy as np\n",
    "\n",
    "for i in range(4):\n",
    "    batch = mnist.test.next_batch(1)\n",
    "    image = np.asarray(batch[0]).reshape((28, 28))\n",
    "    label = batch[1]\n",
    "    \n",
    "    plt.imshow(image)\n",
    "    plt.axis(\"off\")\n",
    "    plt.show()"
   ]
  },
  {
   "cell_type": "markdown",
   "metadata": {},
   "source": [
    "We are first going to do softmax logistic regression. This is a linear layer followed by softmax. Note there are NO hidden layers here. Also note that the digit images (28x28 grayscale images) are reshaped into a 784 element vector. "
   ]
  },
  {
   "cell_type": "markdown",
   "metadata": {},
   "source": [
    "Below we create the parameters (weights) for our linear layer."
   ]
  },
  {
   "cell_type": "code",
   "execution_count": null,
   "metadata": {
    "collapsed": true
   },
   "outputs": [],
   "source": [
    "W = tf.Variable(tf.zeros([784,10]))\n",
    "b = tf.Variable(tf.zeros([10]))"
   ]
  },
  {
   "cell_type": "markdown",
   "metadata": {},
   "source": [
    "We then use tensorflows initializer to initialize these weights."
   ]
  },
  {
   "cell_type": "code",
   "execution_count": null,
   "metadata": {
    "collapsed": true
   },
   "outputs": [],
   "source": [
    "sess.run(tf.global_variables_initializer())"
   ]
  },
  {
   "cell_type": "markdown",
   "metadata": {},
   "source": [
    "We create our linear layer as a function of the input and the weights."
   ]
  },
  {
   "cell_type": "code",
   "execution_count": null,
   "metadata": {
    "collapsed": true
   },
   "outputs": [],
   "source": [
    "y_regressor = tf.matmul(x,W) + b"
   ]
  },
  {
   "cell_type": "markdown",
   "metadata": {},
   "source": [
    "Below we create our loss function. Note that the cross entropy is $ H_{\\hat{y}}(y) = -\\sum_i \\hat{y}_{i} \\, \\log(y_{i})$ where $\\hat{y}$ is the true probability distribution and is expressed as a one-hot vector, $y$ is the estimated probability distribution, and $i$ indexes elements of these two vectors. Also note that this reduces to $ H_{\\hat{y}}(y) = -\\, \\log(y_{i^*})$ where $i^*$ is the correct label. And if we sum this over all of our samples indexed by $j$, then $H_{\\hat{y}}(y) = -\\sum_j  \\log(y^{(j)}_{i^*})$. This is precisely the same loss function as we used before, but we called the MLE loss. They are one and the same."
   ]
  },
  {
   "cell_type": "code",
   "execution_count": null,
   "metadata": {
    "collapsed": true
   },
   "outputs": [],
   "source": [
    "cross_entropy = tf.reduce_mean(\n",
    "    tf.nn.softmax_cross_entropy_with_logits(labels=y_, logits=y_regressor))"
   ]
  },
  {
   "cell_type": "markdown",
   "metadata": {},
   "source": [
    "Now we tell tf to use gradient descent with a step size of 0.5 and to minimize the cross entropy."
   ]
  },
  {
   "cell_type": "code",
   "execution_count": null,
   "metadata": {
    "collapsed": true
   },
   "outputs": [],
   "source": [
    "train_step = tf.train.GradientDescentOptimizer(0.5).minimize(cross_entropy)"
   ]
  },
  {
   "cell_type": "markdown",
   "metadata": {},
   "source": [
    "We train by grabbing mini-batches with 100 samples each and pushing these through the network to update our weights (W and b)."
   ]
  },
  {
   "cell_type": "code",
   "execution_count": null,
   "metadata": {
    "collapsed": true
   },
   "outputs": [],
   "source": [
    "for _ in range(1000):\n",
    "  batch = mnist.train.next_batch(100)\n",
    "  train_step.run(feed_dict={x: batch[0], y_: batch[1]})"
   ]
  },
  {
   "cell_type": "markdown",
   "metadata": {},
   "source": [
    "We define how to compute correct predicitions."
   ]
  },
  {
   "cell_type": "code",
   "execution_count": null,
   "metadata": {
    "collapsed": true
   },
   "outputs": [],
   "source": [
    "correct_prediction = tf.equal(tf.argmax(y_regressor,1), tf.argmax(y_,1))"
   ]
  },
  {
   "cell_type": "markdown",
   "metadata": {},
   "source": [
    "And from these correct predictions how to compute the accuracy."
   ]
  },
  {
   "cell_type": "code",
   "execution_count": null,
   "metadata": {
    "collapsed": true
   },
   "outputs": [],
   "source": [
    "accuracy = tf.reduce_mean(tf.cast(correct_prediction, tf.float32))"
   ]
  },
  {
   "cell_type": "code",
   "execution_count": null,
   "metadata": {},
   "outputs": [],
   "source": [
    "print(accuracy.eval(feed_dict={x: mnist.test.images, y_: mnist.test.labels}))"
   ]
  },
  {
   "cell_type": "markdown",
   "metadata": {},
   "source": [
    "Let's print out some test images and the corresponsing predictions made by the network. But first, let's add an output to the computation graph that computes the softmax probabilities."
   ]
  },
  {
   "cell_type": "code",
   "execution_count": null,
   "metadata": {},
   "outputs": [],
   "source": [
    "y_probs_regressor = tf.nn.softmax(logits=y_regressor, name=None)"
   ]
  },
  {
   "cell_type": "code",
   "execution_count": null,
   "metadata": {
    "scrolled": false
   },
   "outputs": [],
   "source": [
    "for i in range(5):\n",
    "    batch = mnist.test.next_batch(1)\n",
    "    image = np.asarray(batch[0]).reshape((28, 28))\n",
    "    label = batch[1]\n",
    "    \n",
    "    plt.imshow(image)\n",
    "    plt.axis(\"off\")\n",
    "    plt.show()\n",
    "    print (\"Label = \", label)\n",
    "    print (\"Class probabilities = \", y_probs_regressor.eval(feed_dict={\n",
    "        x: batch[0], y_: batch[1]}))"
   ]
  },
  {
   "cell_type": "markdown",
   "metadata": {},
   "source": [
    "## Softmax Multi-Layer Perceptron on the MNIST Digits Data"
   ]
  },
  {
   "cell_type": "markdown",
   "metadata": {},
   "source": [
    "Here we define both weight and bias variables and how they are to be initialized. Note that the weights are distributed according to a standard normal distribution (mean = 0, std = 0.1). This random initialization helps avoid hidden units get stuck together, as units that start with the same value will be updated identically in the non-convolutional layers. In contrast, the bias variables are set to a small positive number--this is help prevent hidden units from starting out and getting stuck in the zero part of the ReLU. "
   ]
  },
  {
   "cell_type": "code",
   "execution_count": null,
   "metadata": {
    "collapsed": true
   },
   "outputs": [],
   "source": [
    "def weight_variable(shape):\n",
    "  initial = tf.truncated_normal(shape, stddev=0.1)\n",
    "  return tf.Variable(initial)\n",
    "\n",
    "def bias_variable(shape):\n",
    "  initial = tf.constant(0.1, shape=shape)\n",
    "  return tf.Variable(initial)"
   ]
  },
  {
   "cell_type": "markdown",
   "metadata": {},
   "source": [
    "Next we create placeholders for the training data."
   ]
  },
  {
   "cell_type": "code",
   "execution_count": null,
   "metadata": {
    "collapsed": true
   },
   "outputs": [],
   "source": [
    "x = tf.placeholder(tf.float32, shape=[None, 784])\n",
    "y_ = tf.placeholder(tf.float32, shape=[None, 10])"
   ]
  },
  {
   "cell_type": "markdown",
   "metadata": {},
   "source": [
    "We create the first and only fully connected hidden layer."
   ]
  },
  {
   "cell_type": "code",
   "execution_count": null,
   "metadata": {},
   "outputs": [],
   "source": [
    "W_h = weight_variable([784, 512])\n",
    "b_h = bias_variable([512])\n",
    "h = tf.nn.relu(tf.matmul(x, W_h) + b_h)"
   ]
  },
  {
   "cell_type": "markdown",
   "metadata": {},
   "source": [
    "We create the output layer."
   ]
  },
  {
   "cell_type": "code",
   "execution_count": null,
   "metadata": {
    "collapsed": true
   },
   "outputs": [],
   "source": [
    "W_out = weight_variable([512, 10])\n",
    "b_out = bias_variable([10])\n",
    "y_MLP = tf.matmul(h, W_out) + b_out"
   ]
  },
  {
   "cell_type": "markdown",
   "metadata": {},
   "source": [
    "We again use cross entropy loss on a softmax distribution on the outputs."
   ]
  },
  {
   "cell_type": "code",
   "execution_count": null,
   "metadata": {
    "collapsed": true
   },
   "outputs": [],
   "source": [
    "cross_entropy = tf.reduce_mean(\n",
    "    tf.nn.softmax_cross_entropy_with_logits(labels=y_, logits=y_MLP))"
   ]
  },
  {
   "cell_type": "markdown",
   "metadata": {},
   "source": [
    "For training we choose an Adam learning rate and update rule. We then run this for 20,000 iterations and evaluate our accuracy after training. Note this softmax MLP network does quite a bit bettter than our softmax regressor. The non-linear layer really helps makes sense of the data! But we can do better still..."
   ]
  },
  {
   "cell_type": "code",
   "execution_count": null,
   "metadata": {
    "scrolled": false
   },
   "outputs": [],
   "source": [
    "train_step = tf.train.AdamOptimizer(1e-4).minimize(cross_entropy)\n",
    "correct_prediction = tf.equal(tf.argmax(y_MLP,1), tf.argmax(y_,1))\n",
    "accuracy = tf.reduce_mean(tf.cast(correct_prediction, tf.float32))\n",
    "sess.run(tf.global_variables_initializer())\n",
    "for i in range(20000):\n",
    "  batch = mnist.train.next_batch(50)\n",
    "  if i%1000 == 0:\n",
    "    train_accuracy = accuracy.eval(feed_dict={\n",
    "        x:batch[0], y_: batch[1]})\n",
    "    print(\"step %d, training accuracy %g\"%(i, train_accuracy))\n",
    "  train_step.run(feed_dict={x: batch[0], y_: batch[1]})\n",
    "\n",
    "print(\"test accuracy %g\"%accuracy.eval(feed_dict={\n",
    "    x: mnist.test.images, y_: mnist.test.labels}))"
   ]
  },
  {
   "cell_type": "markdown",
   "metadata": {},
   "source": [
    "## A Simple Convolutional Neural Network: LeNet"
   ]
  },
  {
   "cell_type": "markdown",
   "metadata": {},
   "source": [
    "Here we make our first CNN. It's quite simple network, but it's surprisingly good at this handwritten digit recognition task. This a variant on Yann LeCun's CNN network that really helped to move deep learning forward."
   ]
  },
  {
   "cell_type": "markdown",
   "metadata": {},
   "source": [
    "We define both weight and bias variables and how they are to be initialized. Note that the weights are are distributed according to a standard normal distribution (mean = 0, std = 0.1). This random initialization helps avoid hidden units get stuck together, as units that start with the same value will be updated identically in the non-convolutional layers. In contrast, the bias variables are set to a small positive number--this is help prevent hidden units from starting out and getting stuck in the zero part of the ReLu. "
   ]
  },
  {
   "cell_type": "code",
   "execution_count": null,
   "metadata": {
    "collapsed": true
   },
   "outputs": [],
   "source": [
    "def weight_variable(shape):\n",
    "  initial = tf.truncated_normal(shape, stddev=0.1)\n",
    "  return tf.Variable(initial)\n",
    "\n",
    "def bias_variable(shape):\n",
    "  initial = tf.constant(0.1, shape=shape)\n",
    "  return tf.Variable(initial)"
   ]
  },
  {
   "cell_type": "markdown",
   "metadata": {},
   "source": [
    "Next we define how the convolution is to be computed and the extent and type of pooling. The convolution will use a 5x5 kernel and will pad the image with zeros around the edges and use a stride of 1 pixel so that the resulting image (after convolution) has the same size as the original input image. The network will learn the weights for a stack of 32 separate kernels along with 32 bias variables. Finally, after the ReLu is performed the result will be under go 2x2 max pooling, thus halfing both dimensions of the image. The choices for the stride, padding, and pooling are not parameters that the network needs to estimate. Rather these are termed \"hyperparamters\" that are usually set by the network designer."
   ]
  },
  {
   "cell_type": "code",
   "execution_count": null,
   "metadata": {
    "collapsed": true
   },
   "outputs": [],
   "source": [
    "def conv2d(x, W):\n",
    "  return tf.nn.conv2d(x, W, strides=[1, 1, 1, 1], padding='SAME')\n",
    "\n",
    "def max_pool_2x2(x):\n",
    "  return tf.nn.max_pool(x, ksize=[1, 2, 2, 1],\n",
    "                        strides=[1, 2, 2, 1], padding='SAME')"
   ]
  },
  {
   "cell_type": "markdown",
   "metadata": {},
   "source": [
    "This creates the weight and bias variables for the first convolutional layer as described above. Note the output has depth 32, so there will be 32 feature images after this layer."
   ]
  },
  {
   "cell_type": "code",
   "execution_count": null,
   "metadata": {
    "collapsed": true
   },
   "outputs": [],
   "source": [
    "W_conv1 = weight_variable([5, 5, 1, 32])\n",
    "b_conv1 = bias_variable([32])"
   ]
  },
  {
   "cell_type": "markdown",
   "metadata": {},
   "source": [
    "Unlike for our softmax regressor above, here we need keep the images as images and not collapse these into vectors; this allows us to perform the 2D convolution."
   ]
  },
  {
   "cell_type": "code",
   "execution_count": null,
   "metadata": {
    "collapsed": true
   },
   "outputs": [],
   "source": [
    "x_image = tf.reshape(x, [-1,28,28,1])"
   ]
  },
  {
   "cell_type": "markdown",
   "metadata": {},
   "source": [
    "Finally, we define are first layer of our CNN!"
   ]
  },
  {
   "cell_type": "code",
   "execution_count": null,
   "metadata": {
    "collapsed": true
   },
   "outputs": [],
   "source": [
    "h_conv1 = tf.nn.relu(conv2d(x_image, W_conv1) + b_conv1)\n",
    "h_pool1 = max_pool_2x2(h_conv1)"
   ]
  },
  {
   "cell_type": "markdown",
   "metadata": {},
   "source": [
    "And wasting no time, we define are second layer. The second layer will have to process 32 feature images coming out of the first layer. Note that the images input to this layer have $\\frac{1}{4}$ the number of pixels as the original input images due to the 2x2 pooling in the previous layer. Note that convolution layer NOT fully connected as our previous hidden layers have been. A unit in the output layer has a limited \"receptive field.\" Its connections to the input layer are spatially limited by the kernel (or filter) size. Also, because of weight sharing in convolutional layers, the number of parameters for a convolutional is the size of the kernel x the depth of the input layer x depth of the output layer + depth of the output layer. So for the second layer of our ConvNet, we have 5 x 5 x 32 x 64 + 64 = 51,264 parameters. "
   ]
  },
  {
   "cell_type": "code",
   "execution_count": null,
   "metadata": {
    "collapsed": true
   },
   "outputs": [],
   "source": [
    "W_conv2 = weight_variable([5, 5, 32, 64])\n",
    "b_conv2 = bias_variable([64])\n",
    "\n",
    "h_conv2 = tf.nn.relu(conv2d(h_pool1, W_conv2) + b_conv2)\n",
    "h_pool2 = max_pool_2x2(h_conv2)"
   ]
  },
  {
   "cell_type": "markdown",
   "metadata": {},
   "source": [
    "After the pooling stage of our second convolutional layer, we have 64 7x7 \"feature\" images. In one penultimate fully connected hidden layer, we are going to map these feature imges to a 1024 dimensional feature space. Note we need to flatten these feature images to do this."
   ]
  },
  {
   "cell_type": "code",
   "execution_count": null,
   "metadata": {
    "collapsed": true
   },
   "outputs": [],
   "source": [
    "W_fc1 = weight_variable([7 * 7 * 64, 1024])\n",
    "b_fc1 = bias_variable([1024])\n",
    "\n",
    "h_pool2_flat = tf.reshape(h_pool2, [-1, 7*7*64])\n",
    "h_fc1 = tf.nn.relu(tf.matmul(h_pool2_flat, W_fc1) + b_fc1)"
   ]
  },
  {
   "cell_type": "markdown",
   "metadata": {},
   "source": [
    "Dropout is added here, although it is not really needed for such small network."
   ]
  },
  {
   "cell_type": "code",
   "execution_count": null,
   "metadata": {
    "collapsed": true
   },
   "outputs": [],
   "source": [
    "keep_prob = tf.placeholder(tf.float32)\n",
    "h_fc1_drop = tf.nn.dropout(h_fc1, keep_prob)"
   ]
  },
  {
   "cell_type": "markdown",
   "metadata": {},
   "source": [
    "We have a final linear output layer mapping features to scores topped off with a softmax cross entropy loss function, as explained earlier."
   ]
  },
  {
   "cell_type": "code",
   "execution_count": null,
   "metadata": {},
   "outputs": [],
   "source": [
    "W_fc2 = weight_variable([1024, 10])\n",
    "b_fc2 = bias_variable([10])\n",
    "\n",
    "y_conv = tf.matmul(h_fc1_drop, W_fc2) + b_fc2"
   ]
  },
  {
   "cell_type": "code",
   "execution_count": null,
   "metadata": {
    "collapsed": true
   },
   "outputs": [],
   "source": [
    "cross_entropy = tf.reduce_mean(\n",
    "    tf.nn.softmax_cross_entropy_with_logits(labels=y_, logits=y_conv))"
   ]
  },
  {
   "cell_type": "markdown",
   "metadata": {},
   "source": [
    "For training we choose an Adam learning rate and update rule. We then run this for 20,000 iterations and evaluate our accuracy after training."
   ]
  },
  {
   "cell_type": "code",
   "execution_count": null,
   "metadata": {},
   "outputs": [],
   "source": [
    "train_step = tf.train.AdamOptimizer(1e-4).minimize(cross_entropy)\n",
    "correct_prediction = tf.equal(tf.argmax(y_conv,1), tf.argmax(y_,1))\n",
    "accuracy = tf.reduce_mean(tf.cast(correct_prediction, tf.float32))\n",
    "sess.run(tf.global_variables_initializer())\n",
    "for i in range(20000):\n",
    "  batch = mnist.train.next_batch(50)\n",
    "  if i%1000 == 0:\n",
    "    train_accuracy = accuracy.eval(feed_dict={\n",
    "        x:batch[0], y_: batch[1], keep_prob: 1.0})\n",
    "    print(\"step %d, training accuracy %g\"%(i, train_accuracy))\n",
    "  train_step.run(feed_dict={x: batch[0], y_: batch[1], keep_prob: 0.5})\n",
    "\n",
    "print(\"test accuracy %g\"%accuracy.eval(feed_dict={\n",
    "    x: mnist.test.images, y_: mnist.test.labels, keep_prob: 1.0}))"
   ]
  },
  {
   "cell_type": "markdown",
   "metadata": {},
   "source": [
    "We add an output to compuational graph that computes the label probabilities."
   ]
  },
  {
   "cell_type": "code",
   "execution_count": null,
   "metadata": {
    "collapsed": true
   },
   "outputs": [],
   "source": [
    "y_probs = tf.nn.softmax(logits=y_conv, name=None)"
   ]
  },
  {
   "cell_type": "code",
   "execution_count": null,
   "metadata": {},
   "outputs": [],
   "source": [
    "print(\"test accuracy %g\"%accuracy.eval(feed_dict={\n",
    "    x: mnist.test.images, y_: mnist.test.labels, keep_prob: 1.0}))"
   ]
  },
  {
   "cell_type": "markdown",
   "metadata": {},
   "source": [
    "Next we step through some test examples and see how well the network is doing."
   ]
  },
  {
   "cell_type": "code",
   "execution_count": null,
   "metadata": {},
   "outputs": [],
   "source": [
    "for i in range(5):\n",
    "    batch = mnist.test.next_batch(1)\n",
    "    image = np.asarray(batch[0]).reshape((28, 28))\n",
    "    label = batch[1]\n",
    "    \n",
    "    plt.imshow(image)\n",
    "    plt.axis(\"off\")\n",
    "    plt.show()\n",
    "    print (\"Label = \", label)\n",
    "    print (\"Class probabilities = \", y_probs.eval(feed_dict={\n",
    "        x: batch[0], y_: batch[1], keep_prob: 1.0}))"
   ]
  },
  {
   "cell_type": "markdown",
   "metadata": {},
   "source": [
    "## Implementing Softmax Regression Model on the MNIST Digits Data, Softmax Multi-Layer Perceptron on the MNIST Digits Data, CNN LeNet\n",
    "\n",
    "- Instructions copied over using PyTorch/torchvision:\n",
    "1) A FULLY commented re-implementation of the networks below using Pytorch.\n",
    "2) your network trained on the same MNIST data as used here.\n",
    "3) an evaluation of the accuracy on the MNIST test set.\n",
    "4) plots of 10 randomly selected digits from the test set along with the correct label and the assigned label.\n",
    "5) have your training record a log of the validation loss and validation accuracy. \n",
    "6) have your training continually save the best model so far (as determined by the validation loss).\n",
    "7) after training, load the saved weights using the best model so far. re-run you accuracy evaluation using these saved weights."
   ]
  },
  {
   "cell_type": "markdown",
   "metadata": {},
   "source": [
    "### Softmax regression model"
   ]
  },
  {
   "cell_type": "code",
   "execution_count": null,
   "metadata": {},
   "outputs": [
    {
     "name": "stdout",
     "output_type": "stream",
     "text": [
      "Epoch [1/5], Train Loss: 4.0002, Val Loss: 3.2235, Val Accuracy: 77.37%\n",
      "Best model saved with validation loss: 3.2235\n",
      "Epoch [2/5], Train Loss: 1.5493, Val Loss: 0.9533, Val Accuracy: 89.48%\n",
      "Best model saved with validation loss: 0.9533\n",
      "Epoch [3/5], Train Loss: 1.4143, Val Loss: 1.0596, Val Accuracy: 88.50%\n",
      "Epoch [4/5], Train Loss: 1.3656, Val Loss: 1.0105, Val Accuracy: 89.26%\n",
      "Epoch [5/5], Train Loss: 1.3333, Val Loss: 1.3533, Val Accuracy: 85.79%\n"
     ]
    },
    {
     "name": "stderr",
     "output_type": "stream",
     "text": [
      "C:\\Users\\Rosh\\AppData\\Local\\Temp\\ipykernel_6320\\3970282097.py:95: FutureWarning: You are using `torch.load` with `weights_only=False` (the current default value), which uses the default pickle module implicitly. It is possible to construct malicious pickle data which will execute arbitrary code during unpickling (See https://github.com/pytorch/pytorch/blob/main/SECURITY.md#untrusted-models for more details). In a future release, the default value for `weights_only` will be flipped to `True`. This limits the functions that could be executed during unpickling. Arbitrary objects will no longer be allowed to be loaded via this mode unless they are explicitly allowlisted by the user via `torch.serialization.add_safe_globals`. We recommend you start setting `weights_only=True` for any use case where you don't have full control of the loaded file. Please open an issue on GitHub for any issues related to this experimental feature.\n",
      "  best_model.load_state_dict(torch.load(best_model_path))\n"
     ]
    },
    {
     "name": "stdout",
     "output_type": "stream",
     "text": [
      "Accuracy of the best model on the 10000 test images: 89.48%\n"
     ]
    }
   ],
   "source": [
    "import torch\n",
    "import torch.nn as nn\n",
    "import torch.optim as optim\n",
    "from torchvision import datasets, transforms\n",
    "from torch.utils.data import DataLoader\n",
    "import random\n",
    "import matplotlib.pyplot as plt\n",
    "\n",
    "# Hyperparameters\n",
    "learning_rate = 0.5\n",
    "batch_size = 100\n",
    "num_epochs = 5\n",
    "\n",
    "# Dataset and Dataloader\n",
    "transform = transforms.Compose([transforms.ToTensor(), transforms.Normalize((0.5,), (0.5,))])\n",
    "train_dataset = datasets.MNIST(root='./data', train=True, transform=transform, download=True)\n",
    "test_dataset = datasets.MNIST(root='./data', train=False, transform=transform, download=True)\n",
    "train_loader = DataLoader(dataset=train_dataset, batch_size=batch_size, shuffle=True)\n",
    "test_loader = DataLoader(dataset=test_dataset, batch_size=batch_size, shuffle=False)\n",
    "\n",
    "# Define Softmax Regression Model\n",
    "class SoftmaxRegression(nn.Module):\n",
    "    def __init__(self, input_size, num_classes):\n",
    "        super(SoftmaxRegression, self).__init__()\n",
    "        self.linear = nn.Linear(input_size, num_classes)\n",
    "    \n",
    "    def forward(self, x):\n",
    "        x = x.view(-1, 28*28)\n",
    "        return self.linear(x)\n",
    "\n",
    "# Initialize model, loss function, and optimizer\n",
    "input_size = 28 * 28\n",
    "num_classes = 10\n",
    "model = SoftmaxRegression(input_size, num_classes)\n",
    "criterion = nn.CrossEntropyLoss()\n",
    "optimizer = optim.SGD(model.parameters(), lr=learning_rate)\n",
    "\n",
    "# Variables to keep track of the best model\n",
    "best_val_loss = float('inf')\n",
    "best_model_path = 'best_model.pth'\n",
    "\n",
    "# Training and validation logging\n",
    "training_log = {'epoch': [], 'train_loss': [], 'val_loss': [], 'val_accuracy': []}\n",
    "\n",
    "# Training and validation loop\n",
    "for epoch in range(num_epochs):\n",
    "    # Training phase\n",
    "    model.train()\n",
    "    running_train_loss = 0\n",
    "    for images, labels in train_loader:\n",
    "        outputs = model(images)\n",
    "        loss = criterion(outputs, labels)\n",
    "        optimizer.zero_grad()\n",
    "        loss.backward()\n",
    "        optimizer.step()\n",
    "        running_train_loss += loss.item()\n",
    "\n",
    "    # Calculate average training loss for this epoch\n",
    "    avg_train_loss = running_train_loss / len(train_loader)\n",
    "    \n",
    "    # Validation phase\n",
    "    model.eval()\n",
    "    running_val_loss = 0\n",
    "    correct = 0\n",
    "    total = 0\n",
    "    with torch.no_grad():\n",
    "        for images, labels in test_loader:\n",
    "            outputs = model(images)\n",
    "            loss = criterion(outputs, labels)\n",
    "            running_val_loss += loss.item()\n",
    "            _, predicted = torch.max(outputs, 1)\n",
    "            total += labels.size(0)\n",
    "            correct += (predicted == labels).sum().item()\n",
    "\n",
    "    # Calculate average validation loss and accuracy for this epoch\n",
    "    avg_val_loss = running_val_loss / len(test_loader)\n",
    "    val_accuracy = 100 * correct / total\n",
    "    \n",
    "    # Logging the metrics for this epoch\n",
    "    training_log['epoch'].append(epoch + 1)\n",
    "    training_log['train_loss'].append(avg_train_loss)\n",
    "    training_log['val_loss'].append(avg_val_loss)\n",
    "    training_log['val_accuracy'].append(val_accuracy)\n",
    "\n",
    "    print(f\"Epoch [{epoch + 1}/{num_epochs}], Train Loss: {avg_train_loss:.4f}, Val Loss: {avg_val_loss:.4f}, Val Accuracy: {val_accuracy:.2f}%\")\n",
    "    \n",
    "    # Check if this is the best model so far\n",
    "    if avg_val_loss < best_val_loss:\n",
    "        best_val_loss = avg_val_loss\n",
    "        torch.save(model.state_dict(), best_model_path)\n",
    "        print(f\"Best model saved with validation loss: {best_val_loss:.4f}\")\n",
    "\n",
    "# Load the best model\n",
    "best_model = SoftmaxRegression(input_size, num_classes)\n",
    "best_model.load_state_dict(torch.load(best_model_path))\n",
    "\n",
    "# Evaluate the best model on the test set\n",
    "best_model.eval()\n",
    "correct = 0\n",
    "total = 0\n",
    "with torch.no_grad():\n",
    "    for images, labels in test_loader:\n",
    "        outputs = best_model(images)\n",
    "        _, predicted = torch.max(outputs, 1)\n",
    "        total += labels.size(0)\n",
    "        correct += (predicted == labels).sum().item()\n",
    "\n",
    "print(f'Accuracy of the best model on the 10000 test images: {100 * correct / total:.2f}%')\n"
   ]
  },
  {
   "cell_type": "code",
   "execution_count": 5,
   "metadata": {},
   "outputs": [
    {
     "data": {
      "image/png": "[encoded data removed]",
      "text/plain": [
       "<Figure size 1200x600 with 10 Axes>"
      ]
     },
     "metadata": {},
     "output_type": "display_data"
    }
   ],
   "source": [
    "import random\n",
    "import matplotlib.pyplot as plt\n",
    "\n",
    "# Function to plot 10 random images with true and predicted labels\n",
    "def plot_random_predictions(model, test_loader):\n",
    "    # Set model to evaluation mode\n",
    "    model.eval()\n",
    "\n",
    "    # Get a batch of test data\n",
    "    images, labels = next(iter(test_loader))\n",
    "\n",
    "    # Get model predictions\n",
    "    with torch.no_grad():\n",
    "        outputs = model(images)\n",
    "        _, predicted = torch.max(outputs, 1)\n",
    "\n",
    "    # Select 10 random indices from the batch\n",
    "    random_indices = random.sample(range(len(images)), 10)\n",
    "    \n",
    "    # Plot the images along with true and predicted labels\n",
    "    plt.figure(figsize=(12, 6))\n",
    "    for i, idx in enumerate(random_indices):\n",
    "        img = images[idx].squeeze()  # Remove unnecessary dimensions\n",
    "        label = labels[idx].item()\n",
    "        pred_label = predicted[idx].item()\n",
    "        \n",
    "        plt.subplot(2, 5, i + 1)  # Arrange plots in a 2x5 grid\n",
    "        plt.imshow(img, cmap='gray')  # Display image in grayscale\n",
    "        plt.title(f'True: {label} | Pred: {pred_label}')\n",
    "        plt.axis('off')  # Hide axes\n",
    "\n",
    "    plt.tight_layout()\n",
    "    plt.show()\n",
    "\n",
    "# Call the function with the model and test_loader\n",
    "plot_random_predictions(model, test_loader)\n"
   ]
  },
  {
   "cell_type": "markdown",
   "metadata": {},
   "source": [
    "### MLP"
   ]
  },
  {
   "cell_type": "code",
   "execution_count": 7,
   "metadata": {},
   "outputs": [
    {
     "name": "stdout",
     "output_type": "stream",
     "text": [
      "Epoch [1/42], Train Loss: 0.4321, Val Loss: 0.2797, Val Accuracy: 91.82%\n",
      "Best model saved with validation loss: 0.2797\n",
      "Epoch [2/42], Train Loss: 0.2406, Val Loss: 0.2142, Val Accuracy: 93.78%\n",
      "Best model saved with validation loss: 0.2142\n",
      "Epoch [3/42], Train Loss: 0.1734, Val Loss: 0.1707, Val Accuracy: 94.83%\n",
      "Best model saved with validation loss: 0.1707\n",
      "Epoch [4/42], Train Loss: 0.1366, Val Loss: 0.1383, Val Accuracy: 95.85%\n",
      "Best model saved with validation loss: 0.1383\n",
      "Epoch [5/42], Train Loss: 0.1144, Val Loss: 0.1234, Val Accuracy: 96.22%\n",
      "Best model saved with validation loss: 0.1234\n",
      "Epoch [6/42], Train Loss: 0.0973, Val Loss: 0.1302, Val Accuracy: 95.99%\n",
      "Epoch [7/42], Train Loss: 0.0845, Val Loss: 0.1072, Val Accuracy: 96.88%\n",
      "Best model saved with validation loss: 0.1072\n",
      "Epoch [8/42], Train Loss: 0.0747, Val Loss: 0.0965, Val Accuracy: 97.07%\n",
      "Best model saved with validation loss: 0.0965\n",
      "Epoch [9/42], Train Loss: 0.0664, Val Loss: 0.1091, Val Accuracy: 96.67%\n",
      "Epoch [10/42], Train Loss: 0.0596, Val Loss: 0.0955, Val Accuracy: 97.17%\n",
      "Best model saved with validation loss: 0.0955\n",
      "Epoch [11/42], Train Loss: 0.0568, Val Loss: 0.0844, Val Accuracy: 97.47%\n",
      "Best model saved with validation loss: 0.0844\n",
      "Epoch [12/42], Train Loss: 0.0493, Val Loss: 0.0833, Val Accuracy: 97.55%\n",
      "Best model saved with validation loss: 0.0833\n",
      "Epoch [13/42], Train Loss: 0.0470, Val Loss: 0.0867, Val Accuracy: 97.29%\n",
      "Epoch [14/42], Train Loss: 0.0430, Val Loss: 0.1048, Val Accuracy: 96.83%\n",
      "Epoch [15/42], Train Loss: 0.0392, Val Loss: 0.0949, Val Accuracy: 97.17%\n",
      "Epoch [16/42], Train Loss: 0.0366, Val Loss: 0.0824, Val Accuracy: 97.78%\n",
      "Best model saved with validation loss: 0.0824\n",
      "Epoch [17/42], Train Loss: 0.0355, Val Loss: 0.0876, Val Accuracy: 97.55%\n",
      "Epoch [18/42], Train Loss: 0.0315, Val Loss: 0.0876, Val Accuracy: 97.60%\n",
      "Epoch [19/42], Train Loss: 0.0274, Val Loss: 0.0838, Val Accuracy: 97.74%\n",
      "Epoch [20/42], Train Loss: 0.0260, Val Loss: 0.0840, Val Accuracy: 97.59%\n",
      "Epoch [21/42], Train Loss: 0.0226, Val Loss: 0.1007, Val Accuracy: 97.27%\n",
      "Epoch [22/42], Train Loss: 0.0269, Val Loss: 0.1051, Val Accuracy: 97.06%\n",
      "Epoch [23/42], Train Loss: 0.0224, Val Loss: 0.0937, Val Accuracy: 97.54%\n",
      "Epoch [24/42], Train Loss: 0.0211, Val Loss: 0.0989, Val Accuracy: 97.49%\n",
      "Epoch [25/42], Train Loss: 0.0183, Val Loss: 0.0894, Val Accuracy: 97.80%\n",
      "Epoch [26/42], Train Loss: 0.0183, Val Loss: 0.0953, Val Accuracy: 97.53%\n",
      "Epoch [27/42], Train Loss: 0.0180, Val Loss: 0.1017, Val Accuracy: 97.68%\n",
      "Epoch [28/42], Train Loss: 0.0194, Val Loss: 0.1172, Val Accuracy: 97.31%\n",
      "Epoch [29/42], Train Loss: 0.0175, Val Loss: 0.1021, Val Accuracy: 97.70%\n",
      "Epoch [30/42], Train Loss: 0.0141, Val Loss: 0.1145, Val Accuracy: 97.28%\n",
      "Epoch [31/42], Train Loss: 0.0133, Val Loss: 0.1090, Val Accuracy: 97.32%\n",
      "Epoch [32/42], Train Loss: 0.0133, Val Loss: 0.1002, Val Accuracy: 97.69%\n",
      "Epoch [33/42], Train Loss: 0.0129, Val Loss: 0.1036, Val Accuracy: 97.50%\n",
      "Epoch [34/42], Train Loss: 0.0163, Val Loss: 0.1105, Val Accuracy: 97.37%\n",
      "Epoch [35/42], Train Loss: 0.0153, Val Loss: 0.1203, Val Accuracy: 97.31%\n",
      "Epoch [36/42], Train Loss: 0.0127, Val Loss: 0.1089, Val Accuracy: 97.51%\n",
      "Epoch [37/42], Train Loss: 0.0105, Val Loss: 0.1189, Val Accuracy: 97.47%\n",
      "Epoch [38/42], Train Loss: 0.0117, Val Loss: 0.1233, Val Accuracy: 97.38%\n",
      "Epoch [39/42], Train Loss: 0.0129, Val Loss: 0.1104, Val Accuracy: 97.62%\n",
      "Epoch [40/42], Train Loss: 0.0076, Val Loss: 0.1170, Val Accuracy: 97.63%\n",
      "Epoch [41/42], Train Loss: 0.0144, Val Loss: 0.1134, Val Accuracy: 97.72%\n",
      "Epoch [42/42], Train Loss: 0.0037, Val Loss: 0.1055, Val Accuracy: 97.78%\n"
     ]
    },
    {
     "name": "stderr",
     "output_type": "stream",
     "text": [
      "C:\\Users\\Rosh\\AppData\\Local\\Temp\\ipykernel_6320\\569634042.py:139: FutureWarning: You are using `torch.load` with `weights_only=False` (the current default value), which uses the default pickle module implicitly. It is possible to construct malicious pickle data which will execute arbitrary code during unpickling (See https://github.com/pytorch/pytorch/blob/main/SECURITY.md#untrusted-models for more details). In a future release, the default value for `weights_only` will be flipped to `True`. This limits the functions that could be executed during unpickling. Arbitrary objects will no longer be allowed to be loaded via this mode unless they are explicitly allowlisted by the user via `torch.serialization.add_safe_globals`. We recommend you start setting `weights_only=True` for any use case where you don't have full control of the loaded file. Please open an issue on GitHub for any issues related to this experimental feature.\n",
      "  model.load_state_dict(torch.load(best_model_path))\n"
     ]
    },
    {
     "name": "stdout",
     "output_type": "stream",
     "text": [
      "Best model evaluation on test set - Loss: 0.0857, Accuracy: 97.43%\n"
     ]
    }
   ],
   "source": [
    "import torch\n",
    "import torch.nn as nn  # Import neural network modules\n",
    "import torch.optim as optim  # Import optimization algorithms\n",
    "from torchvision import datasets, transforms  # Import dataset and transformations\n",
    "from torch.utils.data import DataLoader, random_split  # For data loading and splitting\n",
    "\n",
    "# Set hyperparameters\n",
    "learning_rate = 0.001  # Learning rate for the optimizer\n",
    "batch_size = 100  # Number of samples per batch\n",
    "num_iterations = 20000  # Total number of training iterations\n",
    "\n",
    "# Define data transformations: convert images to tensors and normalize pixel values\n",
    "transform = transforms.Compose([\n",
    "    transforms.ToTensor(),  # Convert PIL images to tensors\n",
    "    transforms.Normalize((0.5,), (0.5,))  # Normalize tensors to have mean 0.5 and std 0.5\n",
    "])\n",
    "\n",
    "# Load the full MNIST training dataset\n",
    "full_train_dataset = datasets.MNIST(root='./data', train=True, transform=transform, download=True)\n",
    "\n",
    "# Split the full training dataset into training and validation sets (80% train, 20% validation)\n",
    "train_size = int(0.8 * len(full_train_dataset))  # Calculate training set size\n",
    "val_size = len(full_train_dataset) - train_size  # Calculate validation set size\n",
    "train_dataset, val_dataset = random_split(full_train_dataset, [train_size, val_size])  # Split dataset\n",
    "\n",
    "# Create data loaders for training and validation datasets\n",
    "train_loader = DataLoader(dataset=train_dataset, batch_size=batch_size, shuffle=True)  # Training data loader\n",
    "val_loader = DataLoader(dataset=val_dataset, batch_size=batch_size, shuffle=False)  # Validation data loader\n",
    "\n",
    "# Load the test dataset (used only for final evaluation)\n",
    "test_dataset = datasets.MNIST(root='./data', train=False, transform=transform, download=True)\n",
    "test_loader = DataLoader(dataset=test_dataset, batch_size=batch_size, shuffle=False)  # Test data loader\n",
    "\n",
    "# Calculate the number of epochs needed to reach the total number of iterations\n",
    "iterations_per_epoch = len(train_loader)  # Number of batches per epoch\n",
    "num_epochs = num_iterations // iterations_per_epoch + 1  # Total number of epochs\n",
    "\n",
    "# Define a Multi-Layer Perceptron (MLP) model\n",
    "class MLP(nn.Module):\n",
    "    def __init__(self, input_size, hidden_size, num_classes):\n",
    "        super(MLP, self).__init__()\n",
    "        # Define the first fully connected layer (input to hidden)\n",
    "        self.fc1 = nn.Linear(input_size, hidden_size)  # Maps input features to hidden layer\n",
    "        self.relu = nn.ReLU()  # Activation function introducing non-linearity\n",
    "        # Define the second fully connected layer (hidden to output)\n",
    "        self.fc2 = nn.Linear(hidden_size, num_classes)  # Maps hidden layer to output classes\n",
    "\n",
    "    def forward(self, x):\n",
    "        x = x.view(-1, 28 * 28)  # Flatten images from (batch_size, 1, 28, 28) to (batch_size, 784)\n",
    "        x = self.fc1(x)  # Pass data through the first layer\n",
    "        x = self.relu(x)  # Apply ReLU activation function\n",
    "        x = self.fc2(x)  # Pass data through the second layer\n",
    "        return x  # Output raw scores (logits) for each class\n",
    "\n",
    "# Initialize the model, loss function, and optimizer\n",
    "input_size = 28 * 28  # Each image has 784 pixels\n",
    "hidden_size = 128  # Increased hidden layer size for better performance\n",
    "num_classes = 10  # Number of classes (digits 0-9)\n",
    "model = MLP(input_size, hidden_size, num_classes)  # Create an instance of the MLP model\n",
    "\n",
    "criterion = nn.CrossEntropyLoss()  # Loss function for multi-class classification\n",
    "optimizer = optim.Adam(model.parameters(), lr=learning_rate)  # Adam optimizer for training\n",
    "\n",
    "# Variables to keep track of the best model based on validation loss\n",
    "best_val_loss = float('inf')  # Initialize best validation loss to infinity\n",
    "best_model_path = 'best_model_mlp.pth'  # File path to save the best model weights\n",
    "\n",
    "# Dictionary to record training and validation metrics\n",
    "training_log = {'epoch': [], 'train_loss': [], 'val_loss': [], 'val_accuracy': []}\n",
    "\n",
    "# Helper function to evaluate the model on validation or test data\n",
    "def evaluate_model(model, data_loader):\n",
    "    model.eval()  # Set model to evaluation mode (disables dropout, batch norm, etc.)\n",
    "    running_loss = 0.0  # Sum of losses over the dataset\n",
    "    correct = 0  # Number of correct predictions\n",
    "    total = 0  # Total number of samples\n",
    "\n",
    "    with torch.no_grad():  # Disable gradient calculation for efficiency\n",
    "        for images, labels in data_loader:\n",
    "            outputs = model(images)  # Forward pass to get outputs\n",
    "            loss = criterion(outputs, labels)  # Compute loss\n",
    "            running_loss += loss.item() * images.size(0)  # Accumulate weighted loss\n",
    "            _, predicted = torch.max(outputs, 1)  # Get predicted class labels\n",
    "            total += labels.size(0)  # Increment total samples\n",
    "            correct += (predicted == labels).sum().item()  # Increment correct predictions\n",
    "\n",
    "    avg_loss = running_loss / total  # Calculate average loss over all samples\n",
    "    accuracy = 100 * correct / total  # Calculate accuracy percentage\n",
    "    return avg_loss, accuracy  # Return average loss and accuracy\n",
    "\n",
    "# Training loop\n",
    "iterations = 0  # Counter for total iterations\n",
    "for epoch in range(num_epochs):\n",
    "    model.train()  # Set model to training mode\n",
    "    running_train_loss = 0.0  # Sum of training losses\n",
    "    for images, labels in train_loader:\n",
    "        # Forward pass: compute predicted outputs\n",
    "        outputs = model(images)  # Get model predictions\n",
    "        loss = criterion(outputs, labels)  # Compute loss between predictions and true labels\n",
    "\n",
    "        # Backward pass and optimization\n",
    "        optimizer.zero_grad()  # Clear gradients from previous step\n",
    "        loss.backward()  # Compute gradients of the loss w.r.t model parameters\n",
    "        optimizer.step()  # Update model parameters\n",
    "\n",
    "        running_train_loss += loss.item() * images.size(0)  # Accumulate weighted training loss\n",
    "        iterations += 1  # Increment iteration count\n",
    "\n",
    "        # Check if the desired number of iterations is reached\n",
    "        if iterations >= num_iterations:\n",
    "            break  # Exit the batch loop\n",
    "    # Calculate average training loss for the epoch\n",
    "    avg_train_loss = running_train_loss / len(train_loader.dataset)\n",
    "\n",
    "    # Evaluate the model on the validation set\n",
    "    avg_val_loss, val_accuracy = evaluate_model(model, val_loader)\n",
    "\n",
    "    # Record metrics in the training log\n",
    "    training_log['epoch'].append(epoch + 1)\n",
    "    training_log['train_loss'].append(avg_train_loss)\n",
    "    training_log['val_loss'].append(avg_val_loss)\n",
    "    training_log['val_accuracy'].append(val_accuracy)\n",
    "\n",
    "    # Print epoch metrics\n",
    "    print(f\"Epoch [{epoch + 1}/{num_epochs}], Train Loss: {avg_train_loss:.4f}, \"\n",
    "          f\"Val Loss: {avg_val_loss:.4f}, Val Accuracy: {val_accuracy:.2f}%\")\n",
    "\n",
    "    # Save the model if it has the best validation loss so far\n",
    "    if avg_val_loss < best_val_loss:\n",
    "        best_val_loss = avg_val_loss  # Update best validation loss\n",
    "        torch.save(model.state_dict(), best_model_path)  # Save model weights\n",
    "        print(f\"Best model saved with validation loss: {best_val_loss:.4f}\")\n",
    "\n",
    "    # Break the epoch loop if desired iterations are reached\n",
    "    if iterations >= num_iterations:\n",
    "        break  # Exit the epoch loop\n",
    "\n",
    "# Load the best model weights after training\n",
    "model.load_state_dict(torch.load(best_model_path))\n",
    "\n",
    "# Evaluate the best model on the test set\n",
    "test_loss, test_accuracy = evaluate_model(model, test_loader)\n",
    "print(f'Best model evaluation on test set - Loss: {test_loss:.4f}, Accuracy: {test_accuracy:.2f}%')\n"
   ]
  },
  {
   "cell_type": "code",
   "execution_count": 8,
   "metadata": {},
   "outputs": [
    {
     "data": {
      "image/png": "[encoded data removed]",
      "text/plain": [
       "<Figure size 1200x600 with 10 Axes>"
      ]
     },
     "metadata": {},
     "output_type": "display_data"
    }
   ],
   "source": [
    "plot_random_predictions(model, test_loader)"
   ]
  },
  {
   "cell_type": "code",
   "execution_count": 9,
   "metadata": {},
   "outputs": [],
   "source": [
    "### CNN LeNet"
   ]
  }
 ],
 "metadata": {
  "kernelspec": {
   "display_name": "Python 3",
   "language": "python",
   "name": "python3"
  },
  "language_info": {
   "codemirror_mode": {
    "name": "ipython",
    "version": 3
   },
   "file_extension": ".py",
   "mimetype": "text/x-python",
   "name": "python",
   "nbconvert_exporter": "python",
   "pygments_lexer": "ipython3",
   "version": "3.12.2"
  }
 },
 "nbformat": 4,
 "nbformat_minor": 2
}
